{
 "cells": [
  {
   "cell_type": "markdown",
   "metadata": {},
   "source": [
    "### Sebastián Rodríguez\n",
    "### Carnet: 20003076\n",
    "\n",
    "# Informe Individual - SVM"
   ]
  },
  {
   "cell_type": "code",
   "execution_count": 15,
   "metadata": {},
   "outputs": [],
   "source": [
    "import matplotlib.pyplot as plt\n",
    "import numpy as np\n",
    "import tensorflow as tf\n",
    "from sklearn import datasets\n",
    "\n",
    "sess = tf.Session()\n",
    "\n",
    "iris = datasets.load_iris()\n",
    "x_vals = np.array([[x[0], x[3]] for x in iris.data])\n",
    "y_vals = np.array([1 if y == 0 else -1 for y in iris.target])"
   ]
  },
  {
   "cell_type": "markdown",
   "metadata": {},
   "source": [
    "¿Qué es el algoritmo SVM?\n",
    "\n",
    "Consiste en un algoritmo de clasificación binaria que puede admitir claisificación lineal y no lineal. Consiste en maximizar la distancia entre 2 distintos tipos de datos para lo cual es necesario encontrar un \"Hiperplano\". \n",
    "\n",
    "El SVM trata de que este espacio sea tan máximo como sea posible para garantizar que el error clasificador sea lo más pequeño posible. "
   ]
  },
  {
   "cell_type": "code",
   "execution_count": 17,
   "metadata": {},
   "outputs": [],
   "source": [
    "train_indices = np.random.choice(len(x_vals),\n",
    "                                 round(len(x_vals)*0.8),\n",
    "                                 replace=False)\n",
    "test_indices = np.array(list(set(range(len(x_vals))) - set(train_indices)))\n",
    "x_vals_train = x_vals[train_indices]\n",
    "x_vals_test = x_vals[test_indices]\n",
    "y_vals_train = y_vals[train_indices]\n",
    "y_vals_test = y_vals[test_indices]"
   ]
  },
  {
   "cell_type": "markdown",
   "metadata": {},
   "source": [
    "#  Utilizando la función de costo en el video 4"
   ]
  },
  {
   "cell_type": "markdown",
   "metadata": {},
   "source": [
    "### ¿Como podemos entrenar el modelo?\n",
    "\n",
    "Para entrenar SVM necesitamos informarle qué elementos del diccionario devueltos por la función cuales son características y cuáles son etiquetas. Creamos dos características 1D de valores reales llamados x e y. Tenemos un tensor 1D que contiene etiquetas de cadena para nuestros ejemplos. En nuestro caso, todos los ejemplos se devuelven a la vez. Sin embargo, en aplicaciones reales, podría crear una función que lea datos de un archivo o un servidor y devuelva lotes. También podría devolver los mismos lotes repetidamente, en cuyo caso example_id debería reflejar esto. Al llamar al método de ajuste del estimador, también especificamos el número de pasos que debe ejecutar. Alternativamente, podríamos especificar max_steps para ejecutar. Con pasos, cada vez que llamamos al método fit (cosa que no estamos haciendo para este curso), ejecuta el número dado de pasos. \n",
    "\n",
    "Con una función que pasos máximos (no utilizado en este código), una vez que el estimador se ejecutó para ese número de pasos, cualquier llamada posterior para ajustarse se realiza inmediatamente, sin realizar ningún ajuste adicional de datos.\n",
    "\n"
   ]
  },
  {
   "cell_type": "code",
   "execution_count": 3,
   "metadata": {},
   "outputs": [],
   "source": [
    "batch_size = 100\n",
    "\n",
    "x_data = tf.placeholder(shape=[None, 2], dtype=tf.float32)\n",
    "y_target = tf.placeholder(shape=[None, 1], dtype=tf.float32)\n",
    "A = tf.Variable(tf.random_normal(shape=[2, 1]))\n",
    "b = tf.Variable(tf.random_normal(shape=[1, 1]))\n",
    "model_output = tf.subtract(tf.matmul(x_data, A), b)\n",
    "l2_norm = tf.reduce_sum(tf.square(A))\n",
    "\n",
    "Loss = max(0, 1-pred*actual) + alpha * L2_norm(A)^2\n",
    "alpha = tf.constant([0.01])\n",
    "classification_term = tf.reduce_mean(tf.maximum(0., tf.subtract(1., tf.multiply(model_output, y_target))))\n",
    "loss = tf.add(classification_term, tf.multiply(alpha, l2_norm))"
   ]
  },
  {
   "cell_type": "code",
   "execution_count": 4,
   "metadata": {},
   "outputs": [
    {
     "name": "stdout",
     "output_type": "stream",
     "text": [
      "WARNING:tensorflow:From C:\\ProgramData\\Anaconda3\\lib\\site-packages\\tensorflow_core\\python\\ops\\math_grad.py:1424: where (from tensorflow.python.ops.array_ops) is deprecated and will be removed in a future version.\n",
      "Instructions for updating:\n",
      "Use tf.where in 2.0, which has the same broadcast rule as np.where\n"
     ]
    }
   ],
   "source": [
    "my_opt = tf.train.GradientDescentOptimizer(0.01)\n",
    "train_step = my_opt.minimize(loss)\n",
    "\n",
    "init = tf.global_variables_initializer()\n",
    "sess.run(init)\n",
    "\n",
    "loss_vec = []\n",
    "train_accuracy = []\n",
    "test_accuracy = []\n",
    "for i in range(20000):\n",
    "    rand_index = np.random.choice(len(x_vals_train), size=batch_size)\n",
    "    rand_x = x_vals_train[rand_index]\n",
    "    rand_y = np.transpose([y_vals_train[rand_index]])\n",
    "    sess.run(train_step, feed_dict={x_data: rand_x, y_target: rand_y})"
   ]
  },
  {
   "cell_type": "markdown",
   "metadata": {},
   "source": [
    "Las funciones del kernel incluyen el kernel sigmoide, el kernel lineal, el kernel polinomial y el kernel gaussiano. Entre ellas, el kernel gaussiano y el kernel polinomial se usan más comúnmente. Ambas funciones del kernel pueden mapear datos de baja dimensión a datos de alta dimensión.\n",
    "\n",
    "De esta manera, se mapean los datos bidimensionales en datos tridimensionales. Para el mapeo del núcleo gaussiano, se utilizará la expansión de la serie Taylor, y nosotros lo derivamos usando tensorflow cuando es necesario.\n",
    "\n",
    "En este ejemplo solo encontramos un conjunto de datos separables lineales para construir el clasificador lineal de clasificación binaria. ** Un poco confuso el juego de palabras.\n"
   ]
  },
  {
   "cell_type": "code",
   "execution_count": 5,
   "metadata": {},
   "outputs": [
    {
     "data": {
      "image/png": "[encoded data removed]",
      "text/plain": [
       "<Figure size 432x288 with 1 Axes>"
      ]
     },
     "metadata": {
      "needs_background": "light"
     },
     "output_type": "display_data"
    }
   ],
   "source": [
    "[[a1], [a2]] = sess.run(A)\n",
    "[[b]] = sess.run(b)\n",
    "slope = -a2/a1\n",
    "y_intercept = b/a1\n",
    "best_fit = []\n",
    "\n",
    "x1_vals = [d[1] for d in x_vals]\n",
    "\n",
    "for i in x1_vals:\n",
    "    best_fit.append(slope*i+y_intercept)\n",
    "\n",
    "\n",
    "# Separate I. setosa\n",
    "setosa_x = [d[1] for i, d in enumerate(x_vals) if y_vals[i] == 1]\n",
    "setosa_y = [d[0] for i, d in enumerate(x_vals) if y_vals[i] == 1]\n",
    "not_setosa_x = [d[1] for i, d in enumerate(x_vals) if y_vals[i] == -1]\n",
    "not_setosa_y = [d[0] for i, d in enumerate(x_vals) if y_vals[i] == -1]\n",
    "\n",
    "plt.plot(setosa_x, setosa_y, 'o', label='I. setosa')\n",
    "plt.plot(not_setosa_x, not_setosa_y, 'x', label='Non-setosa')\n",
    "plt.plot(x1_vals, best_fit, 'r-', label='Linear Separator', linewidth=3)\n",
    "plt.ylim([0, 10])\n",
    "plt.legend(loc='lower right')\n",
    "plt.title('Sepal Length vs Pedal Width')\n",
    "plt.xlabel('Pedal Width')\n",
    "plt.ylabel('Sepal Length')\n",
    "plt.show()"
   ]
  },
  {
   "cell_type": "markdown",
   "metadata": {},
   "source": [
    "# Ventajas y Desventajas \n",
    "\n",
    "\n",
    "1) Son computacionalmente simples y rápidos de ejecutar.\n",
    "\n",
    "2) Son fácilmente escalables a bases de datos de alta dimensionalidad, ya que la selección de atributos sólo necesita ser aplicada una vez, para luego evaluar el desempeño de diferentes métodos de clasificación.\n",
    "\n",
    "3) Estos métodos ignoran las interacciones con el método predictivo, y, por ende, las relaciones entre las distintas variables.\n",
    "\n",
    "4) Sus principales desventajas son su alto costo computacional y un mayor riesgo de sobre-ajuste del modelo\n"
   ]
  },
  {
   "cell_type": "markdown",
   "metadata": {},
   "source": [
    "# Kernel Functions\n",
    "\n",
    "Los algoritmos SVM usan un conjunto de funciones matemáticas que se definen como el núcleo. La función del núcleo es tomar datos como entrada y transformarlos en la forma requerida. \n",
    "\n",
    "Diferentes algoritmos SVM utilizan diferentes tipos de funciones del núcleo. Estas funciones pueden ser de diferentes tipos. Por ejemplo:\n",
    "\n",
    "- lineal\n",
    "- no lineal\n",
    "- polinomial\n",
    "- función de base radial (RBF) \n",
    "- sigmoide.\n",
    "\n",
    "Las funciones del núcleo devuelven el producto interno entre dos puntos en un espacio de características adecuado. Por lo tanto, al definir una noción de similitud, con poco costo computacional, incluso en espacios de dimensiones muy altas."
   ]
  }
 ],
 "metadata": {
  "kernelspec": {
   "display_name": "Python 3",
   "language": "python",
   "name": "python3"
  },
  "language_info": {
   "codemirror_mode": {
    "name": "ipython",
    "version": 3
   },
   "file_extension": ".py",
   "mimetype": "text/x-python",
   "name": "python",
   "nbconvert_exporter": "python",
   "pygments_lexer": "ipython3",
   "version": "3.7.4"
  }
 },
 "nbformat": 4,
 "nbformat_minor": 2
}
